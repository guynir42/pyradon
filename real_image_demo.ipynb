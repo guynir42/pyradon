{
 "cells": [
  {
   "cell_type": "markdown",
   "id": "71903bc3-5173-4b24-864f-58dea37855e0",
   "metadata": {},
   "source": [
    "Start by downloading and opening a real image from PTF (https://ui.adsabs.harvard.edu/abs/2009PASP..121.1395L/abstract)"
   ]
  },
  {
   "cell_type": "code",
   "execution_count": null,
   "id": "269d360f-0800-4975-8933-b835afbefd4c",
   "metadata": {},
   "outputs": [],
   "source": [
    "import os\n",
    "import subprocess\n",
    "\n",
    "data_path = 'data'\n",
    "if not os.path.isdir(im_path):\n",
    "    os.mkdir(im_path)\n",
    "\n",
    "im_link = (\n",
    "    'https://www.dropbox.com/scl/fi/g267d8kqcgytet5rwa3wa/'\n",
    "    'PTF_20100216_075004_11_R_Diff_B74YFO_u-r4yk3x.image.fits?'\n",
    "    'rlkey=9jhf3ox8y90wo4bc9g0b710zh&st=678qblv0&dl=1'\n",
    ")\n",
    "im_filename = 'PTF_20100216_075004_11_R_Diff_B74YFO_u-r4yk3x.image.fits'\n",
    "im_filepath = os.path.join(data_path, im_filename)\n",
    "\n",
    "if not os.path.isfile(im_filepath):\n",
    "    subprocess.run(['wget', im_link, '-O', im_filepath])\n",
    "\n",
    "fl_link = (\n",
    "    'https://www.dropbox.com/scl/fi/izw2nrdwji3hn0608izbt/'\n",
    "    'PTF_20100216_075004_11_R_Diff_B74YFO_u-r4yk3x.flags.fits?'\n",
    "    'rlkey=foe3ymm5va6fq9wwq8jr1od6a&st=mo8jf74y&dl=0'\n",
    ")\n",
    "fl_filename = 'PTF_20100216_075004_11_R_Diff_B74YFO_u-r4yk3x.flags.fits'\n",
    "fl_filepath = os.path.join(data_path, fl_filename)\n",
    "\n",
    "if not os.path.isfile(fl_filepath):\n",
    "    subprocess.run(['wget', fl_link, '-O', fl_filepath])"
   ]
  },
  {
   "cell_type": "code",
   "execution_count": null,
   "id": "6b5a4bf3-0e50-4aaa-8546-b50e8ba803c5",
   "metadata": {},
   "outputs": [],
   "source": [
    "import os\n",
    "from astropy.io import fits\n",
    "\n",
    "with fits.open(im_filepath) as hdu:\n",
    "    im = hdu[0].data\n",
    "\n",
    "with fits.open(fl_filepath) as hdu:\n",
    "    flags = hdu[0].data"
   ]
  },
  {
   "cell_type": "code",
   "execution_count": null,
   "id": "1764043c-d02c-45b8-b784-7aafc9c879f3",
   "metadata": {},
   "outputs": [],
   "source": [
    "import numpy as np\n",
    "import matplotlib.pyplot as plt\n",
    "%matplotlib widget\n",
    "\n",
    "im_path = 'data'\n",
    "im_filename = 'PTF_20100216_075004_11_R_Diff_B74YFO_u-r4yk3x.image.fits'\n",
    "with fits.open(os.path.join(im_path, im_filename)) as hdu:\n",
    "    im = hdu[0].data\n",
    "\n",
    "flags_filename = 'PTF_20100216_075004_11_R_Diff_B74YFO_u-r4yk3x.flags.fits'\n",
    "with fits.open(os.path.join(im_path, flags_filename)) as hdu:\n",
    "    flags = hdu[0].data\n",
    "\n",
    "imnan = im.copy()\n",
    "imnan[flags>0] = np.nan;\n",
    "print(im.shape)\n",
    "plt.figure()\n",
    "plt.imshow(imnan, vmin=-5, vmax=5)"
   ]
  },
  {
   "cell_type": "markdown",
   "id": "eac40f9b-9236-4910-8fe5-677370405fe6",
   "metadata": {},
   "source": [
    "To make this run a lot faster we can cut a 1024x1024 square around a place we already see has a streak. \n",
    "The finder can do something similar by making sections internally using `use_sections`. This will just speed things up. "
   ]
  },
  {
   "cell_type": "code",
   "execution_count": null,
   "id": "52ff982f-43ef-4b88-8d97-93cf2b50febb",
   "metadata": {},
   "outputs": [],
   "source": [
    "section = imnan[2048:3072, 1024:2048]\n",
    "plt.figure()\n",
    "plt.imshow(section, vmin=-5, vmax=5)"
   ]
  },
  {
   "cell_type": "code",
   "execution_count": null,
   "id": "834b38dd-bf96-4369-85a5-fe9ec2b2e119",
   "metadata": {},
   "outputs": [],
   "source": [
    "import time\n",
    "from src.finder import Finder\n",
    "t0 = time.perf_counter()\n",
    "f = Finder(verbosity=10, use_show=False, threshold=7.5, use_exclude=False)\n",
    "f.input(section)\n",
    "t1 = time.perf_counter() - t0\n",
    "print(f\"Found {len(f.streaks)} streaks in {t1:.2f}s\")"
   ]
  },
  {
   "cell_type": "markdown",
   "id": "707a15de-1c3b-4357-9e89-a414feabdc7f",
   "metadata": {},
   "source": [
    "The first streak that was detected is the very bright and obvious satellite trail on the bottom of the section. \n",
    "This is an easy target for streak detection, but much fainter streaks can also be found. \n",
    "Note that because of the way the image is sliced into powers of 2, the streak tracks do not match \n",
    "the streak start/end points exactly. Additional fitting of the streak cutout (using the initial fit) is recommended. "
   ]
  },
  {
   "cell_type": "code",
   "execution_count": null,
   "id": "28fce5b5-230c-407e-b79b-83e12013d9fb",
   "metadata": {},
   "outputs": [],
   "source": [
    "plt.figure(); f.streaks[0].show(vmin=-3, vmax=5)"
   ]
  },
  {
   "cell_type": "markdown",
   "id": "11dbbe08-6d14-4a10-9628-651bbfe18cf1",
   "metadata": {},
   "source": [
    "The remaining streaks that were detected are false positives. \n",
    "Mostly they are due to the weird \"ghost\" artefact on the left-hand side of the image. \n",
    "There's also a long streak on the right-hand side that seems to be just triggering on \n",
    "noise and maybe the bright edges of the image. \n",
    "Real images must apply additional filtering of the streaks that were detected. \n",
    "The FRT algorithm can detect faint streaks, but has no mechanism for removing splotches \n",
    "or even just random false alarms. This is especially true if the background is not uniform\n",
    "or if the noise RMS is higher than what was given to the `Finder`. "
   ]
  },
  {
   "cell_type": "code",
   "execution_count": null,
   "id": "9ac480e8-e2b2-41dd-ad5d-a7e78daead40",
   "metadata": {},
   "outputs": [],
   "source": [
    "plt.figure() \n",
    "for i in range(1, len(f.streaks)):\n",
    "    f.streaks[i].show(vmin=-3, vmax=5)\n",
    "    "
   ]
  },
  {
   "cell_type": "markdown",
   "id": "5361f9c4-c1ea-4d4c-9f5e-6b43eb684058",
   "metadata": {},
   "source": [
    "Try to add lots of white noise to this image. The bright satellite trail is now much fainter.  "
   ]
  },
  {
   "cell_type": "code",
   "execution_count": null,
   "id": "82c65f7c-773d-4c38-b75c-22cb33cf3d39",
   "metadata": {},
   "outputs": [],
   "source": [
    "sigma = 8\n",
    "section2 = section + np.random.normal(0, sigma, size=section.shape)\n",
    "sigma = np.sqrt(sigma ** 2 + np.nanvar(section))  # make sure to account for the real image variance\n",
    "plt.figure()\n",
    "plt.imshow(section2, vmin=-sigma, vmax=sigma)"
   ]
  },
  {
   "cell_type": "code",
   "execution_count": null,
   "id": "a7d3d6ca-c5f2-4f00-8e5f-ace1b940d8e9",
   "metadata": {},
   "outputs": [],
   "source": [
    "f.input(section2, variance=sigma**2)\n",
    "len(f.streaks)"
   ]
  },
  {
   "cell_type": "markdown",
   "id": "023a0dbc-bbe7-4f3e-8974-ed4be98d8b9b",
   "metadata": {},
   "source": [
    "The streak is still detectable, only just above the threshold of 7.5 sigma"
   ]
  },
  {
   "cell_type": "code",
   "execution_count": null,
   "id": "77414ee6-9ec5-428f-b976-d9c936480b11",
   "metadata": {},
   "outputs": [],
   "source": [
    "plt.figure(); f.streaks[0].show(vmin=-sigma, vmax=sigma)\n",
    "f.streaks[0].snr"
   ]
  }
 ],
 "metadata": {
  "kernelspec": {
   "display_name": "Python 3 (ipykernel)",
   "language": "python",
   "name": "python3"
  },
  "language_info": {
   "codemirror_mode": {
    "name": "ipython",
    "version": 3
   },
   "file_extension": ".py",
   "mimetype": "text/x-python",
   "name": "python",
   "nbconvert_exporter": "python",
   "pygments_lexer": "ipython3",
   "version": "3.10.12"
  }
 },
 "nbformat": 4,
 "nbformat_minor": 5
}
