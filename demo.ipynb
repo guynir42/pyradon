{
 "cells": [
  {
   "cell_type": "markdown",
   "metadata": {},
   "source": [
    "# pyradon package demo"
   ]
  },
  {
   "cell_type": "markdown",
   "metadata": {},
   "source": [
    "Start by importing the simulator module and making a simulator object"
   ]
  },
  {
   "cell_type": "code",
   "execution_count": null,
   "metadata": {},
   "outputs": [],
   "source": [
    "from src.simulator import Simulator\n",
    "\n",
    "s = Simulator()\n",
    "s.debug_bit = 2\n"
   ]
  },
  {
   "cell_type": "markdown",
   "metadata": {},
   "source": [
    "Now let us give the simulator some start and end points. "
   ]
  },
  {
   "cell_type": "code",
   "execution_count": null,
   "metadata": {},
   "outputs": [],
   "source": [
    "s.x1 = 0.375; s.x2 = 0.5; s.y1 = 0; s.y2 = 0.5;\n",
    "s.run()"
   ]
  },
  {
   "cell_type": "markdown",
   "metadata": {},
   "source": [
    "Looks like it finds the correct coordinates. Lets show it. "
   ]
  },
  {
   "cell_type": "code",
   "execution_count": null,
   "metadata": {},
   "outputs": [],
   "source": [
    "import matplotlib.pyplot as plt\n",
    "\n",
    "%matplotlib widget\n",
    "streak = s.finder.streaks[0]\n",
    "offset = 15\n",
    "plt.figure()\n",
    "plt.imshow(s.image)\n",
    "plt.plot([streak.x1-offset, streak.x2-offset], [streak.y1,streak.y2], lw=1, ls='--', color='red')\n",
    "plt.plot([streak.x1+offset, streak.x2+offset], [streak.y1,streak.y2], lw=1, ls='--', color='red')\n",
    "plt.colorbar()\n",
    "plt.show()"
   ]
  },
  {
   "cell_type": "markdown",
   "metadata": {},
   "source": [
    "What if we have an external image? First we generate it from the Simulator (but it can be a real image)"
   ]
  },
  {
   "cell_type": "code",
   "execution_count": null,
   "metadata": {},
   "outputs": [],
   "source": [
    "s.x1 = 0.2; s.x2 = 0.6; s.y1 = 0; s.y2 = 0.5; s.run()"
   ]
  },
  {
   "cell_type": "markdown",
   "metadata": {},
   "source": [
    "Lets create some images from the noiseless \"image_conv\" in the Simulator."
   ]
  },
  {
   "cell_type": "code",
   "execution_count": null,
   "metadata": {},
   "outputs": [],
   "source": [
    "plt.figure()\n",
    "plt.imshow(s.image_clean)\n",
    "plt.colorbar();"
   ]
  },
  {
   "cell_type": "code",
   "execution_count": null,
   "metadata": {},
   "outputs": [],
   "source": [
    "import numpy as np\n",
    "I = np.random.normal(103, 2.5, (10,512,512))\n",
    "I[2,:,:] = I[2,:,:] + s.image_clean"
   ]
  },
  {
   "cell_type": "code",
   "execution_count": null,
   "metadata": {},
   "outputs": [],
   "source": [
    "plt.figure()\n",
    "plt.imshow(I[2,:,:])\n",
    "plt.colorbar();"
   ]
  },
  {
   "cell_type": "markdown",
   "metadata": {},
   "source": [
    "We now have 10 noisy images with the line in image number 3.\n",
    "Now lets put these images into the streak finder:"
   ]
  },
  {
   "cell_type": "code",
   "execution_count": null,
   "metadata": {},
   "outputs": [],
   "source": [
    "s.finder.pars.use_exclude = False\n",
    "s.finder.pars.use_subtract_mean = True\n",
    "s.finder.pars.use_short = True\n",
    "s.finder.reset()\n",
    "for i in range(I.shape[0]): \n",
    "    s.finder.input(I[i,:,:], psf=2, variance=2.5**2) # note the psf is given as width sigma, and variance of the noise we used. \n",
    "    print(f'Frame= {i} | Best S/N= {s.finder.data.best_snr}')\n",
    "\n",
    "if len(s.finder.streaks_all):\n",
    "    s.finder.streaks_all[0].print()"
   ]
  },
  {
   "cell_type": "markdown",
   "metadata": {},
   "source": [
    "Note how the S/N of all the frames is below 5, while the streak is detected at S/N=26. Compare that with the expected S/N: "
   ]
  },
  {
   "cell_type": "code",
   "execution_count": null,
   "metadata": {},
   "outputs": [],
   "source": [
    "s.bg_noise_var = 2.5**2\n",
    "s.calc_snr()"
   ]
  },
  {
   "cell_type": "markdown",
   "metadata": {},
   "source": [
    "Additional inputs to the Finder.input() method include:  \n",
    "-filename, batch_num: To keep track of where each streak was found   \n",
    "-psf: as a scalar (PSF width $\\sigma$) or a 2D map   \n",
    "-variance: a scalar (average background variance) or a 2D map   "
   ]
  },
  {
   "cell_type": "markdown",
   "metadata": {},
   "source": [
    "Some of the parameters of Finder that can be used to improve streak detection:   \n",
    "-use_subtract_mean=1: each image mean is subtracted, ignoring NaNs (NaNs are then replaced with zeros).\n",
    "-use_conv=1: choose if to convolve the image before doing FRT.   \n",
    "-use_sections=0: use this to cut the image into smaller sections to run faster. Might fail to find faint and long streaks. \n",
    "-size_sections=1024: the size of the square sections. \n",
    "-offset_sections=(0,0): a starting point for making sections (usefull to trim edges). \n",
    "-pad_sections=0: wether to pad the sections if any of them reach outside the image area. \n",
    "-use_short=1: find short streaks.  \n",
    "-min_length=32: shortest streaks to save (pixels along the horizontal/vertical)  \n",
    "-threshold=5: in units of S/N.  \n",
    "-num_iterations=5: apply FRT again and again, subtracting the streaks each time.   \n",
    "-subtract_psf_widths=3: how many PSF $\\sigma$'s to subtract in each direction of the streak.   \n",
    "-use_exclude=1: Zeros the central part of the Radon image before finding maxima (gets rid of line-noise).   \n",
    "-exclude_x_pix=[-50,50]: horizontal pixel range (in final Radon image; for partial frames uses a relative size).   \n",
    "-exclude_y_pix=[]: same as above, for the vertical pixel range.  \n",
    "-use_write_cutouts=1: saves the cutouts of each found streak. Use 0 to save space.\n",
    "-max_length_to_write=128: only save streaks shorter than this length. \n",
    "-use_show=0: display the images. \n",
    "-default_psf_sigma=1: the PSF's gaussian sigma parameter, if no PSF is given. \n",
    "-default_var_scalar=1: the noise variance value if no noise is given. \n",
    "-verbosity=1: how much debugging data to print while running. \n",
    "\n"
   ]
  }
 ],
 "metadata": {
  "kernelspec": {
   "display_name": "Python 3 (ipykernel)",
   "language": "python",
   "name": "python3"
  },
  "language_info": {
   "codemirror_mode": {
    "name": "ipython",
    "version": 3
   },
   "file_extension": ".py",
   "mimetype": "text/x-python",
   "name": "python",
   "nbconvert_exporter": "python",
   "pygments_lexer": "ipython3",
   "version": "3.10.12"
  }
 },
 "nbformat": 4,
 "nbformat_minor": 4
}
